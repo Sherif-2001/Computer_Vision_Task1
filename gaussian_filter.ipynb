{
 "cells": [
  {
   "cell_type": "code",
   "execution_count": 32,
   "metadata": {},
   "outputs": [],
   "source": [
    "import cv2\n",
    "import scipy.signal as sig\n",
    "import numpy as np"
   ]
  },
  {
   "cell_type": "code",
   "execution_count": 33,
   "metadata": {},
   "outputs": [],
   "source": [
    "# Read the images\n",
    "gaussianNoiseImage = cv2.imread(\"images/noisy_images/gaussian_noise.png\",cv2.IMREAD_GRAYSCALE)\n",
    "uniformNoiseImage = cv2.imread(\"images/noisy_images/uniform_noise.png\",cv2.IMREAD_GRAYSCALE)\n",
    "impulseNoiseImage = cv2.imread(\"images/noisy_images/salt_and_pepper_noise.png\",cv2.IMREAD_GRAYSCALE)"
   ]
  },
  {
   "attachments": {},
   "cell_type": "markdown",
   "metadata": {},
   "source": [
    "Gaussian Function:\n",
    "                    $$ G(x,y) = {1 \\over 2 \\pi \\sigma^2}{e^{-(x^2 + y^2) \\over 2 \\sigma^2}} $$"
   ]
  },
  {
   "cell_type": "code",
   "execution_count": 34,
   "metadata": {},
   "outputs": [],
   "source": [
    "def gaussian_filter(image, mask_size = 3,sigma = 1):\n",
    "    # Make gaussian filter mask using gaussian function\n",
    "    p1 = 1/(2*np.pi*sigma**2)\n",
    "    p3 = (2*np.square(sigma))\n",
    "    mask = np.fromfunction(lambda x, y: p1 * np.exp(-(np.square(x-(mask_size-1)/2) + np.square(y-(mask_size-1)/2)) / p3), (mask_size, mask_size))\n",
    "    mask = mask/np.sum(mask)\n",
    "\n",
    "    # Convolve the image and the mask\n",
    "    conv = sig.convolve2d(image, mask, mode=\"same\")\n",
    "    conv = conv.astype(np.uint8)\n",
    "\n",
    "    cv2.imshow('Average Filter', np.hstack((image, conv)))\n",
    "    cv2.waitKey(0)\n",
    "    cv2.destroyAllWindows()"
   ]
  },
  {
   "cell_type": "code",
   "execution_count": 35,
   "metadata": {},
   "outputs": [],
   "source": [
    "gaussian_filter(gaussianNoiseImage)\n",
    "gaussian_filter(uniformNoiseImage)\n",
    "gaussian_filter(impulseNoiseImage)"
   ]
  }
 ],
 "metadata": {
  "kernelspec": {
   "display_name": "Python 3",
   "language": "python",
   "name": "python3"
  },
  "language_info": {
   "codemirror_mode": {
    "name": "ipython",
    "version": 3
   },
   "file_extension": ".py",
   "mimetype": "text/x-python",
   "name": "python",
   "nbconvert_exporter": "python",
   "pygments_lexer": "ipython3",
   "version": "3.9.0"
  },
  "orig_nbformat": 4,
  "vscode": {
   "interpreter": {
    "hash": "52dd3b18840d72a58ce00975797bd4eda4c5ed5981204d997c74d2d3d4e52cd6"
   }
  }
 },
 "nbformat": 4,
 "nbformat_minor": 2
}
