{
 "cells": [
  {
   "cell_type": "code",
   "execution_count": 160,
   "metadata": {},
   "outputs": [],
   "source": [
    "import cv2\n",
    "import numpy as np\n",
    "import statistics as stat"
   ]
  },
  {
   "cell_type": "code",
   "execution_count": 161,
   "metadata": {},
   "outputs": [],
   "source": [
    "# Read the images\n",
    "gaussianNoiseImage = cv2.imread(\"images/noisy_images/gaussian_noise.png\",cv2.IMREAD_GRAYSCALE)\n",
    "uniformNoiseImage = cv2.imread(\"images/noisy_images/uniform_noise.png\",cv2.IMREAD_GRAYSCALE)\n",
    "impulseNoiseImage = cv2.imread(\"images/noisy_images/salt_and_pepper_noise.png\",cv2.IMREAD_GRAYSCALE)"
   ]
  },
  {
   "cell_type": "code",
   "execution_count": 162,
   "metadata": {},
   "outputs": [],
   "source": [
    "def median_filter(image,filter_size = 5):\n",
    "    # Make an image with the same size of the original\n",
    "    m, n = image.shape\n",
    "    filteredImage = np.zeros([m,n])\n",
    "\n",
    "    # Index that is used for every filter size\n",
    "    filter_index = filter_size // 2\n",
    "    for i in range(1, m-1):\n",
    "        for j in range(1, n-1):\n",
    "            temp = []\n",
    "            for k in range(-filter_index,filter_index):\n",
    "                temp.append(image[i+k, j+k])\n",
    "            filteredImage[i, j]= stat.median_low(sorted(temp))\n",
    "    \n",
    "    filteredImage = filteredImage.astype(np.uint8)\n",
    "    cv2.imshow('Median Filter', np.hstack((image, filteredImage)))\n",
    "    cv2.waitKey(0)\n",
    "    cv2.destroyAllWindows()"
   ]
  },
  {
   "cell_type": "code",
   "execution_count": 163,
   "metadata": {},
   "outputs": [],
   "source": [
    "median_filter(gaussianNoiseImage)\n",
    "median_filter(uniformNoiseImage)\n",
    "median_filter(impulseNoiseImage)"
   ]
  }
 ],
 "metadata": {
  "kernelspec": {
   "display_name": "Python 3",
   "language": "python",
   "name": "python3"
  },
  "language_info": {
   "codemirror_mode": {
    "name": "ipython",
    "version": 3
   },
   "file_extension": ".py",
   "mimetype": "text/x-python",
   "name": "python",
   "nbconvert_exporter": "python",
   "pygments_lexer": "ipython3",
   "version": "3.9.0"
  },
  "orig_nbformat": 4,
  "vscode": {
   "interpreter": {
    "hash": "52dd3b18840d72a58ce00975797bd4eda4c5ed5981204d997c74d2d3d4e52cd6"
   }
  }
 },
 "nbformat": 4,
 "nbformat_minor": 2
}
