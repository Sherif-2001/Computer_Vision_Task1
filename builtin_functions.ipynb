{
 "cells": [
  {
   "cell_type": "code",
   "execution_count": 7,
   "metadata": {},
   "outputs": [],
   "source": [
    "import numpy as np\n",
    "import cv2"
   ]
  },
  {
   "cell_type": "code",
   "execution_count": 8,
   "metadata": {},
   "outputs": [],
   "source": [
    "gaussianNoiseImage = cv2.imread(\"images/noisy_images/gaussian_noise.png\")\n",
    "uniformNoiseImage = cv2.imread(\"images/noisy_images/uniform_noise.png\")\n",
    "impulseNoiseImage = cv2.imread(\"images/noisy_images/salt_and_pepper_noise.png\")"
   ]
  },
  {
   "cell_type": "code",
   "execution_count": 9,
   "metadata": {},
   "outputs": [],
   "source": [
    "medianFilterGaussianNoise = cv2.medianBlur(gaussianNoiseImage,3)\n",
    "medianFilterUniformNoise = cv2.medianBlur(uniformNoiseImage,3)\n",
    "medianFilterImpulseNoise = cv2.medianBlur(impulseNoiseImage,3)"
   ]
  },
  {
   "cell_type": "code",
   "execution_count": 10,
   "metadata": {},
   "outputs": [],
   "source": [
    "gaussianFilterGaussianNoise = cv2.GaussianBlur(gaussianNoiseImage,(3,3),0)\n",
    "gaussianFilterUniformNoise = cv2.GaussianBlur(uniformNoiseImage,(3,3),0)\n",
    "gaussianFilterImpulseNoise = cv2.GaussianBlur(impulseNoiseImage,(3,3),0)"
   ]
  },
  {
   "cell_type": "code",
   "execution_count": 11,
   "metadata": {},
   "outputs": [],
   "source": [
    "averageFilterGaussianNoise = cv2.boxFilter(gaussianNoiseImage, -1, (3, 3), normalize=True) \n",
    "averageFilterUniformNoise = cv2.boxFilter(uniformNoiseImage, -1, (3, 3), normalize=True) \n",
    "averageFilterImpulseNoise = cv2.boxFilter(impulseNoiseImage, -1, (3, 3), normalize=True)"
   ]
  },
  {
   "cell_type": "code",
   "execution_count": 13,
   "metadata": {},
   "outputs": [],
   "source": [
    "cv2.imshow(\"Result\",np.hstack((impulseNoiseImage,gaussianFilterImpulseNoise)))\n",
    "cv2.waitKey(0)\n",
    "cv2.destroyAllWindows()"
   ]
  }
 ],
 "metadata": {
  "kernelspec": {
   "display_name": "Python 3",
   "language": "python",
   "name": "python3"
  },
  "language_info": {
   "codemirror_mode": {
    "name": "ipython",
    "version": 3
   },
   "file_extension": ".py",
   "mimetype": "text/x-python",
   "name": "python",
   "nbconvert_exporter": "python",
   "pygments_lexer": "ipython3",
   "version": "3.9.0"
  },
  "orig_nbformat": 4,
  "vscode": {
   "interpreter": {
    "hash": "52dd3b18840d72a58ce00975797bd4eda4c5ed5981204d997c74d2d3d4e52cd6"
   }
  }
 },
 "nbformat": 4,
 "nbformat_minor": 2
}
