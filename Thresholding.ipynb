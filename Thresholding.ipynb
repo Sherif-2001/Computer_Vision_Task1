{
 "cells": [
  {
   "cell_type": "code",
   "execution_count": 1,
   "metadata": {},
   "outputs": [],
   "source": [
    "\n",
    "def global_threshold(image, thres_value, val_high, val_low):\n",
    "    img = image.copy()\n",
    "    for i in range(image.shape[0]):\n",
    "        for j in range(image.shape[1]):\n",
    "            if image[i,j] > thres_value:\n",
    "                img[i,j] = val_high\n",
    "            else:\n",
    "                img[i,j] = val_low\n",
    "    return img"
   ]
  },
  {
   "cell_type": "code",
   "execution_count": 2,
   "metadata": {},
   "outputs": [],
   "source": [
    "def calculate_mean(rowStartIndex,rowEndIndex,colStartIndex,colEndIndex, image):\n",
    "    sum = 0\n",
    "    for i in range(rowStartIndex,rowEndIndex):\n",
    "        for j in range(colStartIndex,colEndIndex):\n",
    "            sum += image[i,j]\n",
    "    return sum/((rowEndIndex-rowStartIndex)*(colEndIndex-colStartIndex))"
   ]
  },
  {
   "cell_type": "code",
   "execution_count": 3,
   "metadata": {},
   "outputs": [],
   "source": [
    "def local_threshold(image, val_high, val_low,block_size):\n",
    "    img = image.copy()\n",
    "    i=0 \n",
    "    j=0 \n",
    "    lastMean = 127\n",
    "    while i+block_size-1 < image.shape[0]:\n",
    "        j=0\n",
    "        while j+block_size-1 < image.shape[1]:\n",
    "            mean=calculate_mean(i,i+block_size,j,j+block_size,image)\n",
    "            lastMean = mean\n",
    "            for k in range(i,i+block_size):\n",
    "                for l in range(j,j+block_size):\n",
    "                    if image[k,l] > mean:\n",
    "                        img[k,l] = val_high\n",
    "                    else:\n",
    "                        img[k,l] = val_low\n",
    "            j+=block_size           \n",
    "        i+=block_size\n",
    "        \n",
    "    for i in range(i,image.shape[0]):\n",
    "        for j in range(j,image.shape[1]):\n",
    "            if image[i,j] > lastMean:\n",
    "                img[i,j] = val_high\n",
    "            else:\n",
    "                img[i,j] = val_low\n",
    "    return img"
   ]
  },
  {
   "cell_type": "code",
   "execution_count": 4,
   "metadata": {},
   "outputs": [
    {
     "name": "stderr",
     "output_type": "stream",
     "text": [
      "qt.qpa.plugin: Could not find the Qt platform plugin \"wayland\" in \"/home/diaa/.local/lib/python3.10/site-packages/cv2/qt/plugins\"\n"
     ]
    }
   ],
   "source": [
    "import cv2\n",
    "# Load an image in the greyscale\n",
    "img = cv2.imread('./test images/2641.jpg',cv2.IMREAD_GRAYSCALE)\n",
    "img=cv2.resize(img,(500,500),fx=0.25,fy=0.25)\n",
    "# threshold the image\n",
    "#thresh = global_threshold(img, 127, 255, 0)\n",
    "# localthresholding=cv2.adaptiveThreshold(img,255,cv2.ADAPTIVE_THRESH_MEAN_C,cv2.THRESH_BINARY,499,2)\n",
    "local_threshold_result=local_threshold(img,255,0,13)\n",
    "global_threshold_result=global_threshold(img,127,255,0)\n",
    "cv2.imshow('image',local_threshold_result)\n",
    "cv2.imshow('image2',global_threshold_result)\n",
    "cv2.waitKey(50000)\n",
    "cv2.destroyAllWindows()"
   ]
  },
  {
   "cell_type": "code",
   "execution_count": null,
   "metadata": {},
   "outputs": [],
   "source": []
  },
  {
   "cell_type": "code",
   "execution_count": null,
   "metadata": {},
   "outputs": [],
   "source": []
  }
 ],
 "metadata": {
  "kernelspec": {
   "display_name": "Python 3 (ipykernel)",
   "language": "python",
   "name": "python3"
  },
  "language_info": {
   "codemirror_mode": {
    "name": "ipython",
    "version": 3
   },
   "file_extension": ".py",
   "mimetype": "text/x-python",
   "name": "python",
   "nbconvert_exporter": "python",
   "pygments_lexer": "ipython3",
   "version": "3.10.6"
  },
  "vscode": {
   "interpreter": {
    "hash": "916dbcbb3f70747c44a77c7bcd40155683ae19c65e1c03b4aa3499c5328201f1"
   }
  }
 },
 "nbformat": 4,
 "nbformat_minor": 2
}
