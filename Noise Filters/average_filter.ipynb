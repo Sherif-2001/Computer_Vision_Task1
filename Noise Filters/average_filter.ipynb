{
 "cells": [
  {
   "cell_type": "code",
   "execution_count": 226,
   "metadata": {},
   "outputs": [],
   "source": [
    "import cv2\n",
    "import numpy as np\n",
    "import scipy.signal as sig"
   ]
  },
  {
   "cell_type": "code",
   "execution_count": 227,
   "metadata": {},
   "outputs": [],
   "source": [
    "# Read the images\n",
    "gaussianNoiseImage = cv2.imread(\"../images/noisy_images/gaussian_noise.png\",cv2.IMREAD_GRAYSCALE)\n",
    "uniformNoiseImage = cv2.imread(\"../images/noisy_images/uniform_noise.png\",cv2.IMREAD_GRAYSCALE)\n",
    "impulseNoiseImage = cv2.imread(\"../images/noisy_images/salt_and_pepper_noise.png\",cv2.IMREAD_GRAYSCALE)"
   ]
  },
  {
   "cell_type": "code",
   "execution_count": 228,
   "metadata": {},
   "outputs": [],
   "source": [
    "def average_filter(image, maskSize = [3,3]):\n",
    "    # Make average filter mask\n",
    "    mask = np.ones(maskSize, dtype = int)\n",
    "    mask = mask / sum(sum(mask))\n",
    "\n",
    "    # Convolve the image and the mask\n",
    "    conv = sig.convolve2d(image, mask, mode=\"same\")\n",
    "    conv = conv.astype(np.uint8)\n",
    "\n",
    "    cv2.imshow('Average Filter', np.hstack((image, conv)))\n",
    "    cv2.waitKey(0)\n",
    "    cv2.destroyAllWindows()"
   ]
  },
  {
   "cell_type": "code",
   "execution_count": 230,
   "metadata": {},
   "outputs": [],
   "source": [
    "average_filter(gaussianNoiseImage)\n",
    "average_filter(uniformNoiseImage)\n",
    "average_filter(impulseNoiseImage)"
   ]
  }
 ],
 "metadata": {
  "kernelspec": {
   "display_name": "Python 3",
   "language": "python",
   "name": "python3"
  },
  "language_info": {
   "codemirror_mode": {
    "name": "ipython",
    "version": 3
   },
   "file_extension": ".py",
   "mimetype": "text/x-python",
   "name": "python",
   "nbconvert_exporter": "python",
   "pygments_lexer": "ipython3",
   "version": "3.9.0"
  },
  "orig_nbformat": 4,
  "vscode": {
   "interpreter": {
    "hash": "52dd3b18840d72a58ce00975797bd4eda4c5ed5981204d997c74d2d3d4e52cd6"
   }
  }
 },
 "nbformat": 4,
 "nbformat_minor": 2
}
