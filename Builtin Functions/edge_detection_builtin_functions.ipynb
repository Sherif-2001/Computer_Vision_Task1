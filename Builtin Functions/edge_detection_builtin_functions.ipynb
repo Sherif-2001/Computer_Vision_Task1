{
 "cells": [
  {
   "cell_type": "code",
   "execution_count": 2,
   "metadata": {},
   "outputs": [],
   "source": [
    "import cv2\n",
    "import numpy as np\n",
    "import scipy.signal as sig"
   ]
  },
  {
   "cell_type": "code",
   "execution_count": 3,
   "metadata": {},
   "outputs": [],
   "source": [
    "originalImage = cv2.imread(\"../images/original.png\",cv2.IMREAD_GRAYSCALE)\n",
    "ein = cv2.imread(\"../images/einstein.jpg\",cv2.IMREAD_GRAYSCALE)"
   ]
  },
  {
   "cell_type": "code",
   "execution_count": 4,
   "metadata": {},
   "outputs": [],
   "source": [
    "sobelx = cv2.Sobel(originalImage,cv2.CV_64F,1,0,ksize=5)\n",
    "sobely = cv2.Sobel(originalImage,cv2.CV_64F,0,1,ksize=5)\n",
    "sobel = np.add(sobelx,sobely)\n",
    "\n",
    "cv2.imshow(\"Sobel\",np.hstack((sobelx, sobely,sobel)))\n",
    "cv2.waitKey(0)\n",
    "cv2.destroyAllWindows()"
   ]
  },
  {
   "cell_type": "code",
   "execution_count": 6,
   "metadata": {},
   "outputs": [],
   "source": [
    "kernelX = np.array([[1,0,-1],[1,0,-1],[1,0,-1]])\n",
    "kernelY = np.array([[1,1,1],[0,0,0],[-1,-1,-1]])\n",
    "prewittx = cv2.filter2D(originalImage, -1, kernelX)\n",
    "prewitty = cv2.filter2D(originalImage, -1, kernelY)\n",
    "prewitt = np.add(prewittx,prewitty)\n",
    "cv2.imshow(\"Prewitt\",np.hstack((prewittx, prewitty,prewitt)))\n",
    "cv2.waitKey(0)\n",
    "cv2.destroyAllWindows()"
   ]
  },
  {
   "cell_type": "code",
   "execution_count": 12,
   "metadata": {},
   "outputs": [],
   "source": [
    "canny = cv2.Canny(originalImage,100,200)\n",
    "cv2.imshow(\"Canny\",canny)\n",
    "cv2.waitKey(0)\n",
    "cv2.destroyAllWindows()"
   ]
  },
  {
   "cell_type": "code",
   "execution_count": 5,
   "metadata": {},
   "outputs": [],
   "source": [
    "kernelx = np.array([[1, 0], [0, -1]])\n",
    "kernely = np.array([[0, 1], [-1, 0]])\n",
    "\n",
    "robertx = cv2.filter2D(originalImage, -1, kernelx)\n",
    "roberty = cv2.filter2D(originalImage, -1, kernely)\n",
    "robert = np.add(robertx,roberty)\n",
    "robert = robert.astype(np.uint8)\n",
    "\n",
    "cv2.imshow(\"Roberts\",np.hstack((robertx,roberty,robert)))\n",
    "cv2.waitKey(0)\n",
    "cv2.destroyAllWindows()"
   ]
  }
 ],
 "metadata": {
  "kernelspec": {
   "display_name": "Python 3",
   "language": "python",
   "name": "python3"
  },
  "language_info": {
   "codemirror_mode": {
    "name": "ipython",
    "version": 3
   },
   "file_extension": ".py",
   "mimetype": "text/x-python",
   "name": "python",
   "nbconvert_exporter": "python",
   "pygments_lexer": "ipython3",
   "version": "3.9.0"
  },
  "orig_nbformat": 4,
  "vscode": {
   "interpreter": {
    "hash": "52dd3b18840d72a58ce00975797bd4eda4c5ed5981204d997c74d2d3d4e52cd6"
   }
  }
 },
 "nbformat": 4,
 "nbformat_minor": 2
}
