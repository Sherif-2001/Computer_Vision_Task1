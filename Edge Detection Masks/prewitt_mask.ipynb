{
 "cells": [
  {
   "cell_type": "code",
   "execution_count": 50,
   "metadata": {},
   "outputs": [],
   "source": [
    "import cv2\n",
    "import numpy as np\n",
    "import scipy.signal as sig"
   ]
  },
  {
   "cell_type": "code",
   "execution_count": 51,
   "metadata": {},
   "outputs": [],
   "source": [
    "originalImage = cv2.imread(\"../images/original.png\",0)\n",
    "normalizedImage = np.true_divide(originalImage, 255, dtype=np.float64)"
   ]
  },
  {
   "cell_type": "code",
   "execution_count": 52,
   "metadata": {},
   "outputs": [],
   "source": [
    "def prewitt_edge_detection(image):\n",
    "    maskX = np.array([[-1,0,1],[-1,0,1],[-1,0,1]])\n",
    "    maskY = np.array([[-1,-1,-1],[0,0,0],[1,1,1]])\n",
    "\n",
    "    prewittx = sig.convolve2d(image, maskX)\n",
    "    prewitty = sig.convolve2d(image, maskY)\n",
    "    prewitt = np.add(prewittx, prewitty)\n",
    "\n",
    "    cv2.imshow(\"Prewitt Edge Detection\", np.hstack((prewittx, prewitty,prewitt)))\n",
    "    cv2.waitKey(0)\n",
    "    cv2.destroyAllWindows()"
   ]
  },
  {
   "cell_type": "code",
   "execution_count": 53,
   "metadata": {},
   "outputs": [],
   "source": [
    "prewitt_edge_detection(normalizedImage)"
   ]
  }
 ],
 "metadata": {
  "kernelspec": {
   "display_name": "Python 3",
   "language": "python",
   "name": "python3"
  },
  "language_info": {
   "codemirror_mode": {
    "name": "ipython",
    "version": 3
   },
   "file_extension": ".py",
   "mimetype": "text/x-python",
   "name": "python",
   "nbconvert_exporter": "python",
   "pygments_lexer": "ipython3",
   "version": "3.9.0"
  },
  "orig_nbformat": 4,
  "vscode": {
   "interpreter": {
    "hash": "52dd3b18840d72a58ce00975797bd4eda4c5ed5981204d997c74d2d3d4e52cd6"
   }
  }
 },
 "nbformat": 4,
 "nbformat_minor": 2
}
