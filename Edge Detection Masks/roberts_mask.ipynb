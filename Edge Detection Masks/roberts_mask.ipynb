{
 "cells": [
  {
   "cell_type": "code",
   "execution_count": 147,
   "metadata": {},
   "outputs": [],
   "source": [
    "import cv2\n",
    "import numpy as np\n",
    "import scipy.signal as sig"
   ]
  },
  {
   "cell_type": "code",
   "execution_count": 148,
   "metadata": {},
   "outputs": [],
   "source": [
    "originalImage = cv2.imread(\"../images/original.png\",0).astype(np.float64)"
   ]
  },
  {
   "cell_type": "code",
   "execution_count": 149,
   "metadata": {},
   "outputs": [],
   "source": [
    "def roberts_edge_detection(image):\n",
    "    maskX = np.array([[0,1],[-1,0]])\n",
    "    maskY = np.array([[1,0],[0,-1]])\n",
    "    \n",
    "    image /= 255\n",
    "    robertsx = sig.convolve2d(image, maskX)\n",
    "    robertsy = sig.convolve2d(image, maskY)\n",
    "    roberts = np.hypot(robertsx ,robertsy)\n",
    "\n",
    "    cv2.imshow(\"Roberts Edge Detection\", np.hstack((robertsx, robertsy,roberts)))\n",
    "    cv2.waitKey(0)\n",
    "    cv2.destroyAllWindows()"
   ]
  },
  {
   "cell_type": "code",
   "execution_count": 150,
   "metadata": {},
   "outputs": [],
   "source": [
    "roberts_edge_detection(originalImage)"
   ]
  }
 ],
 "metadata": {
  "kernelspec": {
   "display_name": "Python 3",
   "language": "python",
   "name": "python3"
  },
  "language_info": {
   "codemirror_mode": {
    "name": "ipython",
    "version": 3
   },
   "file_extension": ".py",
   "mimetype": "text/x-python",
   "name": "python",
   "nbconvert_exporter": "python",
   "pygments_lexer": "ipython3",
   "version": "3.9.0"
  },
  "orig_nbformat": 4,
  "vscode": {
   "interpreter": {
    "hash": "52dd3b18840d72a58ce00975797bd4eda4c5ed5981204d997c74d2d3d4e52cd6"
   }
  }
 },
 "nbformat": 4,
 "nbformat_minor": 2
}
