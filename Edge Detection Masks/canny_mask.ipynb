{
 "cells": [
  {
   "cell_type": "code",
   "execution_count": 9,
   "metadata": {},
   "outputs": [],
   "source": [
    "import cv2\n",
    "import numpy as np"
   ]
  },
  {
   "cell_type": "code",
   "execution_count": 10,
   "metadata": {},
   "outputs": [],
   "source": [
    "originalImage = cv2.imread(\"../images/original.png\",cv2.IMREAD_GRAYSCALE)"
   ]
  },
  {
   "attachments": {},
   "cell_type": "markdown",
   "metadata": {},
   "source": [
    "Canny Edge Detection Implementation Steps:\n",
    "1. Convert the image to grayscale\n",
    "2. Remove noise using gaussian filter\n",
    "3. Use sobel edge detection to get the edges\n",
    "4. Apply Non-maximum Suppression to make the edges thinner\n",
    "5. Hysteresis Thresholding to connect the strong edges and ignore other"
   ]
  },
  {
   "cell_type": "code",
   "execution_count": 11,
   "metadata": {},
   "outputs": [],
   "source": [
    "# defining the canny detector function \n",
    "# weak_th and strong_th are thresholds for double thresholding step\n",
    "def canny_edge_detection(img, weak_th = None, strong_th = None):\n",
    "       \n",
    "    # Noise reduction step\n",
    "    img = cv2.GaussianBlur(img, (5, 5), 1.4)\n",
    "       \n",
    "    # Calculating the gradients\n",
    "    gx = cv2.Sobel(np.float32(img), cv2.CV_64F, 1, 0, 3)\n",
    "    gy = cv2.Sobel(np.float32(img), cv2.CV_64F, 0, 1, 3)\n",
    "      \n",
    "    # Conversion of Cartesian coordinates to polar \n",
    "    mag, ang = cv2.cartToPolar(gx, gy, angleInDegrees = True)\n",
    "       \n",
    "    # setting the minimum and maximum thresholds \n",
    "    # for double thresholding\n",
    "    mag_max = np.max(mag)\n",
    "    if not weak_th:weak_th = mag_max * 0.1\n",
    "    if not strong_th:strong_th = mag_max * 0.5\n",
    "      \n",
    "    # getting the dimensions of the input image  \n",
    "    height, width = img.shape\n",
    "       \n",
    "    # Looping through every pixel of the grayscale \n",
    "    # image\n",
    "    for i_x in range(width):\n",
    "        for i_y in range(height):\n",
    "               \n",
    "            grad_ang = ang[i_y, i_x]\n",
    "            grad_ang = abs(grad_ang-180) if abs(grad_ang)>180 else abs(grad_ang)\n",
    "               \n",
    "            # selecting the neighbours of the target pixel\n",
    "            # according to the gradient direction\n",
    "            # In the x axis direction\n",
    "            if grad_ang<= 22.5:\n",
    "                neighb_1_x, neighb_1_y = i_x-1, i_y\n",
    "                neighb_2_x, neighb_2_y = i_x + 1, i_y\n",
    "              \n",
    "            # top right (diagonal-1) direction\n",
    "            elif grad_ang>22.5 and grad_ang<=(22.5 + 45):\n",
    "                neighb_1_x, neighb_1_y = i_x-1, i_y-1\n",
    "                neighb_2_x, neighb_2_y = i_x + 1, i_y + 1\n",
    "              \n",
    "            # In y-axis direction\n",
    "            elif grad_ang>(22.5 + 45) and grad_ang<=(22.5 + 90):\n",
    "                neighb_1_x, neighb_1_y = i_x, i_y-1\n",
    "                neighb_2_x, neighb_2_y = i_x, i_y + 1\n",
    "              \n",
    "            # top left (diagonal-2) direction\n",
    "            elif grad_ang>(22.5 + 90) and grad_ang<=(22.5 + 135):\n",
    "                neighb_1_x, neighb_1_y = i_x-1, i_y + 1\n",
    "                neighb_2_x, neighb_2_y = i_x + 1, i_y-1\n",
    "              \n",
    "            # Now it restarts the cycle\n",
    "            elif grad_ang>(22.5 + 135) and grad_ang<=(22.5 + 180):\n",
    "                neighb_1_x, neighb_1_y = i_x-1, i_y\n",
    "                neighb_2_x, neighb_2_y = i_x + 1, i_y\n",
    "               \n",
    "            # Non-maximum suppression step\n",
    "            if width>neighb_1_x>= 0 and height>neighb_1_y>= 0:\n",
    "                if mag[i_y, i_x]<mag[neighb_1_y, neighb_1_x]:\n",
    "                    mag[i_y, i_x]= 0\n",
    "                    continue\n",
    "   \n",
    "            if width>neighb_2_x>= 0 and height>neighb_2_y>= 0:\n",
    "                if mag[i_y, i_x]<mag[neighb_2_y, neighb_2_x]:\n",
    "                    mag[i_y, i_x]= 0\n",
    "   \n",
    "    ids = np.zeros_like(img)\n",
    "       \n",
    "    # double thresholding step\n",
    "    for i_x in range(width):\n",
    "        for i_y in range(height):\n",
    "              \n",
    "            grad_mag = mag[i_y, i_x]\n",
    "              \n",
    "            if grad_mag<weak_th:\n",
    "                mag[i_y, i_x]= 0\n",
    "            elif strong_th>grad_mag>= weak_th:\n",
    "                ids[i_y, i_x]= 1\n",
    "            else:\n",
    "                ids[i_y, i_x]= 2\n",
    "       \n",
    "    # finally show the magnitude of gradients of edges\n",
    "    cv2.imshow(\"Canny Edge Detection\",mag)\n",
    "    cv2.waitKey(0)\n",
    "    cv2.destroyAllWindows()"
   ]
  },
  {
   "cell_type": "code",
   "execution_count": 12,
   "metadata": {},
   "outputs": [],
   "source": [
    "canny_edge_detection(originalImage)"
   ]
  }
 ],
 "metadata": {
  "kernelspec": {
   "display_name": "Python 3",
   "language": "python",
   "name": "python3"
  },
  "language_info": {
   "codemirror_mode": {
    "name": "ipython",
    "version": 3
   },
   "file_extension": ".py",
   "mimetype": "text/x-python",
   "name": "python",
   "nbconvert_exporter": "python",
   "pygments_lexer": "ipython3",
   "version": "3.9.0"
  },
  "orig_nbformat": 4,
  "vscode": {
   "interpreter": {
    "hash": "52dd3b18840d72a58ce00975797bd4eda4c5ed5981204d997c74d2d3d4e52cd6"
   }
  }
 },
 "nbformat": 4,
 "nbformat_minor": 2
}
