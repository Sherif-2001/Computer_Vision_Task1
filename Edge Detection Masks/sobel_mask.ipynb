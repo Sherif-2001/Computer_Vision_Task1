{
 "cells": [
  {
   "cell_type": "code",
   "execution_count": 1,
   "metadata": {},
   "outputs": [],
   "source": [
    "import numpy as np\n",
    "import cv2\n",
    "import scipy.signal as sig"
   ]
  },
  {
   "cell_type": "code",
   "execution_count": 2,
   "metadata": {},
   "outputs": [],
   "source": [
    "originalImage = cv2.imread(\"../images/original.png\",0)"
   ]
  },
  {
   "cell_type": "code",
   "execution_count": 3,
   "metadata": {},
   "outputs": [],
   "source": [
    "def sobel_edge_detection(image):\n",
    "    maskX = [[1, 0, -1],\n",
    "             [2, 0, -2],\n",
    "             [1, 0, -1]]\n",
    "    \n",
    "    maskY = [[1, 2, 1],\n",
    "             [0, 0, 0],\n",
    "             [-1, -2, -1]]\n",
    "    \n",
    "    sobelX = sig.convolve2d(image, maskX)\n",
    "    sobelY = sig.convolve2d(image, maskY )\n",
    "    sobel = np.add(sobelX,sobelY)\n",
    "    sobel = sobel.astype(np.float64)\n",
    "\n",
    "    cv2.imshow(\"Sobel Edge Detection\",np.hstack((sobelX,sobelY,sobel)))\n",
    "    cv2.waitKey(0)\n",
    "    cv2.destroyAllWindows()"
   ]
  },
  {
   "cell_type": "code",
   "execution_count": 4,
   "metadata": {},
   "outputs": [],
   "source": [
    "sobel_edge_detection(originalImage)"
   ]
  }
 ],
 "metadata": {
  "kernelspec": {
   "display_name": "Python 3",
   "language": "python",
   "name": "python3"
  },
  "language_info": {
   "codemirror_mode": {
    "name": "ipython",
    "version": 3
   },
   "file_extension": ".py",
   "mimetype": "text/x-python",
   "name": "python",
   "nbconvert_exporter": "python",
   "pygments_lexer": "ipython3",
   "version": "3.9.0"
  },
  "orig_nbformat": 4,
  "vscode": {
   "interpreter": {
    "hash": "52dd3b18840d72a58ce00975797bd4eda4c5ed5981204d997c74d2d3d4e52cd6"
   }
  }
 },
 "nbformat": 4,
 "nbformat_minor": 2
}
